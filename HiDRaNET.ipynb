{
  "cells": [
    {
      "cell_type": "markdown",
      "metadata": {
        "id": "view-in-github",
        "colab_type": "text"
      },
      "source": [
        "<a href=\"https://colab.research.google.com/github/AndreaPareti/ML_course_Pavia_23/blob/main/HiDRaNET.ipynb\" target=\"_parent\"><img src=\"https://colab.research.google.com/assets/colab-badge.svg\" alt=\"Open In Colab\"/></a>"
      ]
    },
    {
      "cell_type": "markdown",
      "metadata": {
        "id": "99L6z4K8HRDB"
      },
      "source": [
        "A few imports that will be used in the following"
      ]
    },
    {
      "cell_type": "code",
      "execution_count": null,
      "metadata": {
        "id": "XRTRcMb8HPjq"
      },
      "outputs": [],
      "source": [
        "import networkx as nx\n",
        "import torch\n",
        "from torch import nn\n",
        "import numpy as np\n",
        "import pandas as pd\n",
        "import matplotlib.pyplot as plt"
      ]
    },
    {
      "cell_type": "markdown",
      "metadata": {
        "id": "rXdKP9h0Q5uJ"
      },
      "source": [
        "Install Pytorch Geometric libraries"
      ]
    },
    {
      "cell_type": "markdown",
      "metadata": {
        "id": "Fix0upCibG2C"
      },
      "source": []
    },
    {
      "cell_type": "code",
      "execution_count": null,
      "metadata": {
        "colab": {
          "base_uri": "https://localhost:8080/"
        },
        "id": "9E4zMo9jQ4t6",
        "outputId": "eabe6444-c1d4-49d0-8ede-c3033416655e"
      },
      "outputs": [
        {
          "name": "stdout",
          "output_type": "stream",
          "text": [
            "2.0.1+cu118\n",
            "\u001b[2K     \u001b[90m━━━━━━━━━━━━━━━━━━━━━━━━━━━━━━━━━━━━━━━━\u001b[0m \u001b[32m10.2/10.2 MB\u001b[0m \u001b[31m42.5 MB/s\u001b[0m eta \u001b[36m0:00:00\u001b[0m\n",
            "\u001b[2K     \u001b[90m━━━━━━━━━━━━━━━━━━━━━━━━━━━━━━━━━━━━━━━━\u001b[0m \u001b[32m4.8/4.8 MB\u001b[0m \u001b[31m28.0 MB/s\u001b[0m eta \u001b[36m0:00:00\u001b[0m\n",
            "\u001b[2K     \u001b[90m━━━━━━━━━━━━━━━━━━━━━━━━━━━━━━━━━━━━━━━━\u001b[0m \u001b[32m3.3/3.3 MB\u001b[0m \u001b[31m21.3 MB/s\u001b[0m eta \u001b[36m0:00:00\u001b[0m\n",
            "\u001b[?25h  Installing build dependencies ... \u001b[?25l\u001b[?25hdone\n",
            "  Getting requirements to build wheel ... \u001b[?25l\u001b[?25hdone\n",
            "  Preparing metadata (pyproject.toml) ... \u001b[?25l\u001b[?25hdone\n",
            "  Building wheel for torch_geometric (pyproject.toml) ... \u001b[?25l\u001b[?25hdone\n"
          ]
        }
      ],
      "source": [
        "# Install required packages.\n",
        "import os\n",
        "import torch\n",
        "os.environ['TORCH'] = torch.__version__\n",
        "print(torch.__version__)\n",
        "!pip install -q torch-scatter -f https://data.pyg.org/whl/torch-${TORCH}.html\n",
        "!pip install -q torch-sparse -f https://data.pyg.org/whl/torch-${TORCH}.html\n",
        "!pip install -q torch_cluster -f https://data.pyg.org/whl/torch-${TORCH}.html\n",
        "!pip install -q git+https://github.com/pyg-team/pytorch_geometric.git"
      ]
    },
    {
      "cell_type": "markdown",
      "metadata": {
        "id": "1waWV7HtD_UA"
      },
      "source": [
        "Load Dataset: 200 events per energy set, with primary particle energy in [10, 20, 30, 40, 60, 80, 100] GeV.\n"
      ]
    },
    {
      "cell_type": "code",
      "execution_count": null,
      "metadata": {
        "colab": {
          "base_uri": "https://localhost:8080/"
        },
        "id": "M23mDSUyD0mA",
        "outputId": "20c98c0d-1e96-4d52-dcf0-4e9ca5532322"
      },
      "outputs": [
        {
          "name": "stdout",
          "output_type": "stream",
          "text": [
            "  % Total    % Received % Xferd  Average Speed   Time    Time     Time  Current\n",
            "                                 Dload  Upload   Total   Spent    Left  Speed\n",
            "100 2837k  100 2837k    0     0   702k      0  0:00:04  0:00:04 --:--:--  702k\n",
            "  % Total    % Received % Xferd  Average Speed   Time    Time     Time  Current\n",
            "                                 Dload  Upload   Total   Spent    Left  Speed\n",
            "100 5627k  100 5627k    0     0  1255k      0  0:00:04  0:00:04 --:--:-- 1290k\n",
            "  % Total    % Received % Xferd  Average Speed   Time    Time     Time  Current\n",
            "                                 Dload  Upload   Total   Spent    Left  Speed\n",
            "100 8309k  100 8309k    0     0  2262k      0  0:00:03  0:00:03 --:--:-- 2262k\n",
            "  % Total    % Received % Xferd  Average Speed   Time    Time     Time  Current\n",
            "                                 Dload  Upload   Total   Spent    Left  Speed\n",
            "100 10.5M  100 10.5M    0     0  2846k      0  0:00:03  0:00:03 --:--:-- 2845k\n",
            "  % Total    % Received % Xferd  Average Speed   Time    Time     Time  Current\n",
            "                                 Dload  Upload   Total   Spent    Left  Speed\n",
            "100 15.3M  100 15.3M    0     0  3562k      0  0:00:04  0:00:04 --:--:-- 3563k\n",
            "  % Total    % Received % Xferd  Average Speed   Time    Time     Time  Current\n",
            "                                 Dload  Upload   Total   Spent    Left  Speed\n",
            "100 20.2M  100 20.2M    0     0  4603k      0  0:00:04  0:00:04 --:--:-- 4962k\n",
            "  % Total    % Received % Xferd  Average Speed   Time    Time     Time  Current\n",
            "                                 Dload  Upload   Total   Spent    Left  Speed\n",
            "100 24.5M  100 24.5M    0     0  5810k      0  0:00:04  0:00:04 --:--:-- 5811k\n",
            "hits_piplus_100GeV.csv\thits_piplus_30GeV.csv  hits_piplus_80GeV.csv\n",
            "hits_piplus_10GeV.csv\thits_piplus_40GeV.csv  sample_data\n",
            "hits_piplus_20GeV.csv\thits_piplus_60GeV.csv\n"
          ]
        }
      ],
      "source": [
        "!curl https://cernbox.cern.ch/remote.php/dav/public-files/7GrigA2KQ7uDvR4/hits_piplus_10GeV.csv -o hits_piplus_10GeV.csv\n",
        "!curl https://cernbox.cern.ch/remote.php/dav/public-files/wPraydaZYzRL18I/hits_piplus_20GeV.csv -o hits_piplus_20GeV.csv\n",
        "!curl https://cernbox.cern.ch/remote.php/dav/public-files/Sckke3sSgbJnZPT/hits_piplus_30GeV.csv -o hits_piplus_30GeV.csv\n",
        "!curl https://cernbox.cern.ch/remote.php/dav/public-files/eGtiQK5ciKXyUTu/hits_piplus_40GeV.csv -o hits_piplus_40GeV.csv\n",
        "!curl https://cernbox.cern.ch/remote.php/dav/public-files/l6o77MgGgdD0tbr/hits_piplus_60GeV.csv -o hits_piplus_60GeV.csv\n",
        "!curl https://cernbox.cern.ch/remote.php/dav/public-files/TnevGLZ0Z1GawlT/hits_piplus_80GeV.csv -o hits_piplus_80GeV.csv\n",
        "!curl https://cernbox.cern.ch/remote.php/dav/public-files/mPuwiJldxiIvibi/hits_piplus_100GeV.csv -o hits_piplus_100GeV.csv\n",
        "\n",
        "!ls\n"
      ]
    },
    {
      "cell_type": "markdown",
      "metadata": {
        "id": "b5YkPdr5D7tW"
      },
      "source": [
        "Load Dataset:\n"
      ]
    },
    {
      "cell_type": "code",
      "execution_count": null,
      "metadata": {
        "colab": {
          "base_uri": "https://localhost:8080/"
        },
        "id": "JGTS2yXlHEx-",
        "outputId": "8e03c49c-b66d-4b4a-866b-cb2302c17e2b"
      },
      "outputs": [
        {
          "name": "stdout",
          "output_type": "stream",
          "text": [
            "2.0.1+cu118\n",
            "CUDA GPU: False\n",
            "device :  cpu\n"
          ]
        }
      ],
      "source": [
        "def print_device_usage(device):\n",
        "    tot_memory = torch.cuda.get_device_properties(device).total_memory/1024.0**3\n",
        "    reserved_memory = torch.cuda.memory_reserved(device)/1024.0**3\n",
        "    allocated_memory = torch.cuda.memory_allocated(device)/1024.0**3\n",
        "    free_memory = reserved_memory-allocated_memory  # free inside reserved\n",
        "    print('Total memory in Gb: %.2f'%tot_memory)\n",
        "    print('Reserved memory in Gb: %.2f'%reserved_memory)\n",
        "    print('Allocated memory in Gb: %.2f'%allocated_memory)\n",
        "    print('Free memory in Gb: %.2f'%free_memory)\n",
        "\n",
        "print(torch.__version__)\n",
        "print(\"CUDA GPU:\", torch.cuda.is_available())\n",
        "torch.manual_seed(42)\n",
        "# check if a GPU is available. Otherwise run on CPU\n",
        "device = 'cpu'\n",
        "args_cuda = torch.cuda.is_available()\n",
        "if args_cuda: device = \"cuda:0\"\n",
        "print('device : ',device)\n",
        "if args_cuda: print_device_usage(device)\n",
        "torch.cuda.empty_cache()"
      ]
    },
    {
      "cell_type": "markdown",
      "metadata": {
        "id": "6S2jrfxpKqVo"
      },
      "source": [
        "Define features of each graph and of nodes (hits in the calirimeter)\n",
        "\n",
        "And load the data as Pandas Dataframe"
      ]
    },
    {
      "cell_type": "code",
      "execution_count": null,
      "metadata": {
        "id": "4b3ryxHCHM1g"
      },
      "outputs": [],
      "source": [
        "input_features = ['evtID', 'truthE', 'truthPDG','PMTenergyS', 'PMTenergyC', 'PMTenergyComb', 'SiPMenergyS', 'SiPMenergyC', 'SiPMenergyComb', 'hitsCoord']\n",
        "node_features = ['PMTenergyS', 'PMTenergyC', 'PMTenergyComb', 'SiPMenergyS', 'SiPMenergyC', 'SiPMenergyComb', 'x', 'y', 'z', 'E']\n",
        "\n",
        "myDF10 = pd.read_csv('hits_piplus_10GeV.csv', sep=\"\\t\", names=['evtID', 'truthE', 'truthPDG','PMTenergyS', 'PMTenergyC', 'PMTenergyComb', 'SiPMenergyS', 'SiPMenergyC', 'SiPMenergyComb', 'hitsCoord'])\n",
        "myDF20 = pd.read_csv('hits_piplus_20GeV.csv', sep=\"\\t\", names=['evtID', 'truthE', 'truthPDG','PMTenergyS', 'PMTenergyC', 'PMTenergyComb', 'SiPMenergyS', 'SiPMenergyC', 'SiPMenergyComb', 'hitsCoord'])\n",
        "myDF30 = pd.read_csv('hits_piplus_30GeV.csv', sep=\"\\t\", names=['evtID', 'truthE', 'truthPDG','PMTenergyS', 'PMTenergyC', 'PMTenergyComb', 'SiPMenergyS', 'SiPMenergyC', 'SiPMenergyComb', 'hitsCoord'])\n",
        "myDF40 = pd.read_csv('hits_piplus_40GeV.csv', sep=\"\\t\", names=['evtID', 'truthE', 'truthPDG','PMTenergyS', 'PMTenergyC', 'PMTenergyComb', 'SiPMenergyS', 'SiPMenergyC', 'SiPMenergyComb', 'hitsCoord'])\n",
        "myDF60 = pd.read_csv('hits_piplus_60GeV.csv', sep=\"\\t\", names=['evtID', 'truthE', 'truthPDG','PMTenergyS', 'PMTenergyC', 'PMTenergyComb', 'SiPMenergyS', 'SiPMenergyC', 'SiPMenergyComb', 'hitsCoord'])\n",
        "myDF80 = pd.read_csv('hits_piplus_80GeV.csv', sep=\"\\t\", names=['evtID', 'truthE', 'truthPDG','PMTenergyS', 'PMTenergyC', 'PMTenergyComb', 'SiPMenergyS', 'SiPMenergyC', 'SiPMenergyComb', 'hitsCoord'])\n",
        "myDF100 = pd.read_csv('hits_piplus_100GeV.csv', sep=\"\\t\", names=['evtID', 'truthE', 'truthPDG','PMTenergyS', 'PMTenergyC', 'PMTenergyComb', 'SiPMenergyS', 'SiPMenergyC', 'SiPMenergyComb', 'hitsCoord'])\n",
        "\n",
        "\n"
      ]
    },
    {
      "cell_type": "markdown",
      "metadata": {
        "id": "HdfCwjLdQZRR"
      },
      "source": [
        "Import libraries for Graph NNs"
      ]
    },
    {
      "cell_type": "code",
      "execution_count": null,
      "metadata": {
        "id": "5NEiWxlHQX7r"
      },
      "outputs": [],
      "source": [
        "import torch_geometric\n",
        "from torch_geometric.nn import knn_graph, EdgeConv, global_mean_pool\n",
        "from torch_geometric.data import Data\n",
        "from torch_geometric.loader import DataLoader\n",
        "from torch_geometric.nn import GCNConv, GATConv, GATv2Conv\n",
        "from torch_cluster import knn_graph"
      ]
    },
    {
      "cell_type": "markdown",
      "metadata": {
        "id": "yjiDA8FIK2Ff"
      },
      "source": [
        "Import Data as dataframe, with every row consisting of one event\n",
        "\n",
        "The last column is a list of size \"n_nodes\", and each element is another list of 4 feautures: (X,Y,Z) spatial coordinates and the energy deposit in the hit E (each event has a different number of hits in the calorimeter, and hence, different number of nodes)\n",
        "\n",
        "Some cleanup is required to pass through this dataset to a GNN: first of all, for each event (graph) the graph-level features are extended to each node.\n",
        "\n",
        "\n",
        "Let's define a function to clear up this dataset:\n",
        "\n",
        "\n"
      ]
    },
    {
      "cell_type": "code",
      "execution_count": null,
      "metadata": {
        "id": "KDAdjwAHL1rn"
      },
      "outputs": [],
      "source": [
        "from ast import literal_eval\n",
        "from torch_geometric.data import Data\n",
        "from torch_geometric.loader import DataLoader\n",
        "def make_dataset(dataset, df, hits_column_name, target_name, input_features, node_features):\n",
        "    print(df)\n",
        "    df[hits_column_name] = df[hits_column_name].fillna(\"[]\").apply(lambda x: eval(x))\n",
        "    target = np.array(df[target_name])\n",
        "    n_events = df[hits_column_name].shape[0]\n",
        "    print(\"Number of events (Graphs): \", n_events)\n",
        "    for event in range(n_events):\n",
        "        # If the number of energy deposits is larger than 1000, filter only the 1000 larger ones\n",
        "        n_nodes = min(np.array(df[hits_column_name][event]).shape[0], 1000)\n",
        "        x = np.array([   item[0] for item in  np.array(df[hits_column_name][event])   ])\n",
        "        y = np.array([   item[1] for item in  np.array(df[hits_column_name][event])   ])\n",
        "        z = np.array([   item[2] for item in  np.array(df[hits_column_name][event])   ])\n",
        "        E = np.array([   item[3] for item in  np.array(df[hits_column_name][event])   ])\n",
        "        truthE = np.full(x.shape, df.truthE[event])\n",
        "        PMTenergyS = np.full(x.shape, df.PMTenergyS[event])\n",
        "        PMTenergyC = np.full(x.shape, df.PMTenergyC[event])\n",
        "        PMTenergyComb = np.full(x.shape, df.PMTenergyComb[event])\n",
        "        SiPMenergyS = np.full(x.shape, df.SiPMenergyS[event])\n",
        "        SiPMenergyC = np.full(x.shape, df.SiPMenergyC[event])\n",
        "        SiPMenergyComb = np.full(x.shape, df.SiPMenergyComb[event])\n",
        "        hit_data = np.stack((PMTenergyS, PMTenergyC, PMTenergyComb, SiPMenergyS, SiPMenergyC, SiPMenergyComb, x, y, z, E), axis=-1)\n",
        "        eventDF = pd.DataFrame(hit_data, columns=['PMTenergyS', 'PMTenergyC', 'PMTenergyComb', 'SiPMenergyS', 'SiPMenergyC', 'SiPMenergyComb', 'x', 'y', 'z', 'E']).nlargest(n_nodes, 'E')\n",
        "        d = Data(x = torch.tensor(eventDF.values, dtype=torch.float), y = torch.tensor(truthE[event], dtype=torch.float), num_nodes = n_nodes)\n",
        "        dataset.append(d)\n"
      ]
    },
    {
      "cell_type": "markdown",
      "metadata": {
        "id": "W-z4B21gP0Gw"
      },
      "source": [
        "Now append all graphs to a list"
      ]
    },
    {
      "cell_type": "code",
      "execution_count": null,
      "metadata": {
        "colab": {
          "base_uri": "https://localhost:8080/"
        },
        "id": "d58IFzcZPzqs",
        "outputId": "5681af64-a138-482f-f7c7-0f6c851e31e5"
      },
      "outputs": [
        {
          "name": "stdout",
          "output_type": "stream",
          "text": [
            "     evtID  truthE  truthPDG  PMTenergyS  PMTenergyC  PMTenergyComb  \\\n",
            "0       15      10       211     7.66922     5.83176        9.43372   \n",
            "1       16      10       211     7.22226     2.58988       10.59770   \n",
            "2       17      10       211     7.62939     4.54588       10.12620   \n",
            "3       75      10       211     9.14731     7.69720       10.81400   \n",
            "4       76      10       211     8.60298     4.50965       11.78240   \n",
            "..     ...     ...       ...         ...         ...            ...   \n",
            "195    154      10       211     9.08093     5.48765       12.00740   \n",
            "196    155      10       211     7.66922     8.53031        7.84009   \n",
            "197    192      10       211     9.09420     7.44364       10.87460   \n",
            "198    193      10       211     9.13846     9.00120       10.02900   \n",
            "199    194      10       211     8.28878     5.63254       10.59170   \n",
            "\n",
            "     SiPMenergyS  SiPMenergyC  SiPMenergyComb  \\\n",
            "0        7.96417      5.68166        10.01760   \n",
            "1        6.83915      3.36153         9.49872   \n",
            "2        7.75863      5.08332        10.02580   \n",
            "3        8.94572      8.27919        10.13180   \n",
            "4        8.28136      3.46416        11.85980   \n",
            "..           ...          ...             ...   \n",
            "195      8.84799      6.27199        11.15310   \n",
            "196      8.02048      8.47071         8.46510   \n",
            "197      8.87051      7.87847        10.24220   \n",
            "198      9.41687      9.37158        10.27780   \n",
            "199      8.65153      5.68316        11.17090   \n",
            "\n",
            "                                             hitsCoord  \n",
            "0    [[17.7536, -16.6289, 25, 136.17], [19.754, -15...  \n",
            "1    [[3.25065, -0.503906, 75, 63.3939], [5.75115, ...  \n",
            "2    [[46.2593, 23.6836, 25, 26.2869], [60.2621, -2...  \n",
            "3    [[5.75115, -9.57422, 25, 28.9052], [3.25065, -...  \n",
            "4    [[31.7564, -22.6758, 25, 25.8355], [24.755, -1...  \n",
            "..                                                 ...  \n",
            "195  [[77.7656, -30.7383, 25, 16.5422], [3.25065, -...  \n",
            "196  [[14.2529, -14.6133, 25, 13.9577], [16.2533, -...  \n",
            "197  [[14.2529, -6.55078, 25, 132.231], [16.2533, -...  \n",
            "198  [[9.25185, -5.54297, 25, 15.2676], [7.75155, 4...  \n",
            "199  [[7.75155, -16.6289, 25, 102.939], [42.7586, -...  \n",
            "\n",
            "[200 rows x 10 columns]\n",
            "Number of events (Graphs):  200\n",
            "     evtID  truthE  truthPDG  PMTenergyS  PMTenergyC  PMTenergyComb  \\\n",
            "0       18      20       211     16.0996    10.68550        20.6445   \n",
            "1       19      20       211     19.2505    17.58580        21.8556   \n",
            "2       20      20       211     17.9804    12.27930        22.8530   \n",
            "3       78      20       211     13.6347    10.52250        16.6171   \n",
            "4       79      20       211     14.8517     8.94686        19.5798   \n",
            "..     ...     ...       ...         ...         ...            ...   \n",
            "195    154      20       211     13.9312     9.67130        17.6138   \n",
            "196    155      20       211     14.2719     8.98308        18.5887   \n",
            "197    195      20       211     17.4449    14.09040        20.8917   \n",
            "198    196      20       211     13.0682     9.03742        16.5432   \n",
            "199    197      20       211     18.4451    17.02440        20.8386   \n",
            "\n",
            "     SiPMenergyS  SiPMenergyC  SiPMenergyComb  \\\n",
            "0        16.1840     12.69330         19.6043   \n",
            "1        19.8486     17.55990         22.8713   \n",
            "2        19.5066     11.93450         25.6087   \n",
            "3        14.2345      9.65208         18.1326   \n",
            "4        14.8129      8.84468         19.5752   \n",
            "..           ...          ...             ...   \n",
            "195      12.6109      8.51738         16.0841   \n",
            "196      14.8656      9.17624         19.4681   \n",
            "197      17.9462     13.81480         21.8923   \n",
            "198      12.7119      8.41598         16.3129   \n",
            "199      18.5938     16.76710         21.2387   \n",
            "\n",
            "                                             hitsCoord  \n",
            "0    [[74.765, -28.7227, 25, 56.7868], [17.7536, -1...  \n",
            "1    [[3.25065, -6.55078, 25, 144.215], [1.75035, -...  \n",
            "2    [[3.25065, -6.55078, 25, 165.245], [5.75115, -...  \n",
            "3    [[74.765, -63.9961, 25, 22.3439], [67.7636, -6...  \n",
            "4    [[14.2529, -18.6445, 25, 173.848], [14.2529, -...  \n",
            "..                                                 ...  \n",
            "195  [[21.2543, -48.8789, 25, 22.6005], [12.7526, -...  \n",
            "196  [[10.7522, -0.503906, 25, 101.2], [124.275, 43...  \n",
            "197  [[16.2533, -5.54297, 25, 51.4354], [10.7522, -...  \n",
            "198  [[56.7614, -38.8008, 25, 22.4058], [35.7572, -...  \n",
            "199  [[10.7522, -16.6289, 25, 35.2705], [10.7522, -...  \n",
            "\n",
            "[200 rows x 10 columns]\n",
            "Number of events (Graphs):  200\n",
            "     evtID  truthE  truthPDG  PMTenergyS  PMTenergyC  PMTenergyComb  \\\n",
            "0       30      30       211     23.6095     19.8497        27.7534   \n",
            "1       31      30       211     28.8403     24.1058        33.9855   \n",
            "2       32      30       211     21.8438     14.3077        28.0594   \n",
            "3       81      30       211     25.3354     25.7720        27.1576   \n",
            "4       82      30       211     24.5167     17.0244        30.9260   \n",
            "..     ...     ...       ...         ...         ...            ...   \n",
            "195    163      30       211     27.3623     22.7475        32.3159   \n",
            "196    164      30       211     22.1845     18.2741        26.3000   \n",
            "197    195      30       211     19.0514     15.9015        22.4632   \n",
            "198    196      30       211     25.1938     21.2262        29.5897   \n",
            "199    197      30       211     26.8710     21.6427        32.1445   \n",
            "\n",
            "     SiPMenergyS  SiPMenergyC  SiPMenergyComb  \\\n",
            "0        23.8777      22.8809         26.4217   \n",
            "1        29.6698      23.3182         35.8322   \n",
            "2        21.7443      16.0180         26.8895   \n",
            "3        26.2614      26.6080         28.2124   \n",
            "4        24.9444      16.8497         31.7423   \n",
            "..           ...          ...             ...   \n",
            "195      27.5009      24.2728         31.6519   \n",
            "196      22.4303      18.0727         26.8283   \n",
            "197      19.1160      15.0563         23.0672   \n",
            "198      25.6382      20.3277         30.8587   \n",
            "199      26.3531      20.7662         31.7946   \n",
            "\n",
            "                                             hitsCoord  \n",
            "0    [[10.7522, -14.6133, 25, 312.858], [-31.7564, ...  \n",
            "1    [[7.75155, -16.6289, 25, 160.762], [3.25065, -...  \n",
            "2    [[17.7536, -8.56641, 25, 145.224], [14.2529, -...  \n",
            "3    [[-35.2571, -56.9414, 25, 48.5732], [3.25065, ...  \n",
            "4    [[10.7522, -8.56641, 25, 45.3028], [-56.7614, ...  \n",
            "..                                                 ...  \n",
            "195  [[10.7522, -6.55078, 25, 439.708], [-135.777, ...  \n",
            "196  [[10.7522, -2.51953, 25, 71.8597], [12.7526, -...  \n",
            "197  [[17.7536, -10.582, 25, 175.489], [17.7536, -8...  \n",
            "198  [[3.25065, -16.6289, 25, 45.0285], [-22.7546, ...  \n",
            "199  [[10.7522, -18.6445, 25, 286.713], [64.2629, -...  \n",
            "\n",
            "[200 rows x 10 columns]\n",
            "Number of events (Graphs):  200\n",
            "     evtID  truthE  truthPDG  PMTenergyS  PMTenergyC  PMTenergyComb  \\\n",
            "0       30      40       211     34.6730     26.0075        42.5367   \n",
            "1       31      40       211     36.2795     30.1549        42.7829   \n",
            "2       32      40       211     29.0351     20.9907        36.0818   \n",
            "3       78      40       211     31.5841     17.0968        42.6115   \n",
            "4       79      40       211     32.7834     24.9389        40.0140   \n",
            "..     ...     ...       ...         ...         ...            ...   \n",
            "195    157      40       211     36.1777     26.8225        44.5663   \n",
            "196    158      40       211     27.4375     21.3529        33.2073   \n",
            "197    195      40       211     39.1914     39.4278        42.2007   \n",
            "198    196      40       211     32.6196     26.3878        38.8920   \n",
            "199    197      40       211     32.9604     28.6155        38.1543   \n",
            "\n",
            "     SiPMenergyS  SiPMenergyC  SiPMenergyComb  \\\n",
            "0        33.9359      26.1906         41.2010   \n",
            "1        36.0470      31.4980         41.6084   \n",
            "2        28.9694      21.9937         35.3845   \n",
            "3        30.6296      18.6415         40.1157   \n",
            "4        32.4585      26.0626         38.8141   \n",
            "..           ...          ...             ...   \n",
            "195      35.8410      28.2398         43.1747   \n",
            "196      27.7147      22.6846         32.8888   \n",
            "197      38.9823      37.8615         42.7703   \n",
            "198      32.0506      28.4355         36.7437   \n",
            "199      33.5757      30.3430         38.1671   \n",
            "\n",
            "                                             hitsCoord  \n",
            "0    [[-43.7588, -51.9023, 25, 145.45], [-38.7578, ...  \n",
            "1    [[17.7536, -44.8477, 25, 134.559], [31.7564, -...  \n",
            "2    [[7.75155, -18.6445, 25, 458.507], [-70.2641, ...  \n",
            "3    [[5.75115, -11.5898, 25, 30.9518], [3.25065, -...  \n",
            "4    [[14.2529, -14.6133, 25, 356.254], [12.7526, -...  \n",
            "..                                                 ...  \n",
            "195  [[12.7526, -19.6523, 25, 154.252], [9.25185, -...  \n",
            "196  [[134.777, -46.8633, 25, 46.7632], [7.75155, -...  \n",
            "197  [[10.7522, -14.6133, 25, 76.5462], [12.7526, -...  \n",
            "198  [[39.2579, -14.6133, 25, 56.9992], [17.7536, -...  \n",
            "199  [[7.75155, -46.8633, 25, 56.0123], [7.75155, -...  \n",
            "\n",
            "[200 rows x 10 columns]\n",
            "Number of events (Graphs):  200\n",
            "     evtID  truthE  truthPDG  PMTenergyS  PMTenergyC  PMTenergyComb  \\\n",
            "0       12      60       211     59.0437     47.9037        70.1577   \n",
            "1       13      60       211     47.7722     37.2907        57.6231   \n",
            "2       14      60       211     50.3699     41.5105        59.4746   \n",
            "3       72      60       211     48.0245     39.4278        56.7928   \n",
            "4       73      60       211     44.6921     27.7461        58.0832   \n",
            "..     ...     ...       ...         ...         ...            ...   \n",
            "195    142      60       211     45.2719     32.4912        56.2724   \n",
            "196    143      60       211     49.2282     37.8883        59.6944   \n",
            "197    195      60       211     50.6664     40.2065        60.7301   \n",
            "198    196      60       211     52.7508     51.4354        57.6296   \n",
            "199    197      60       211     50.6178     37.8702        62.0154   \n",
            "\n",
            "     SiPMenergyS  SiPMenergyC  SiPMenergyComb  \\\n",
            "0        58.0590      51.2279         66.5766   \n",
            "1        48.0347      39.3360         56.8635   \n",
            "2        50.6835      43.2673         58.9686   \n",
            "3        47.9303      40.0509         56.2718   \n",
            "4        43.6737      29.3322         55.4625   \n",
            "..           ...          ...             ...   \n",
            "195      45.0020      35.7393         53.9243   \n",
            "196      50.4100      40.7139         60.0070   \n",
            "197      49.2247      43.6638         56.3114   \n",
            "198      51.9689      54.8295         54.3448   \n",
            "199      50.7297      37.8973         62.1856   \n",
            "\n",
            "                                             hitsCoord  \n",
            "0    [[10.7522, -16.6289, 25, 112.188], [10.7522, -...  \n",
            "1    [[-35.2571, -20.6602, 25, 250.642], [17.7536, ...  \n",
            "2    [[1.75035, -5.54297, 25, 233.089], [-3.25065, ...  \n",
            "3    [[21.2543, -14.6133, 25, 87.2689], [19.754, -1...  \n",
            "4    [[19.754, -11.5898, 25, 421.843], [21.2543, -1...  \n",
            "..                                                 ...  \n",
            "195  [[7.75155, -14.6133, 25, 528.853], [5.75115, -...  \n",
            "196  [[17.7536, -12.5977, 25, 87.4283], [19.754, -1...  \n",
            "197  [[0.25005, -14.6133, 25, 1107.93], [1.75035, -...  \n",
            "198  [[17.7536, -14.6133, 25, 294.798], [81.2663, 2...  \n",
            "199  [[99.2699, -62.9883, 25, 91.035], [97.7696, -6...  \n",
            "\n",
            "[200 rows x 10 columns]\n",
            "Number of events (Graphs):  200\n",
            "     evtID  truthE  truthPDG  PMTenergyS  PMTenergyC  PMTenergyComb  \\\n",
            "0       27      80       211     63.7037     53.4820        74.5250   \n",
            "1       28      80       211     68.4389     52.2142        83.1257   \n",
            "2       29      80       211     70.5409     68.1881        77.2891   \n",
            "3       51      80       211     65.9252     48.1754        81.3109   \n",
            "4       52      80       211     73.6785     62.1390        86.0292   \n",
            "..     ...     ...       ...         ...         ...            ...   \n",
            "195    151      80       211     68.7486     57.6837        80.4466   \n",
            "196    152      80       211     62.8850     44.4989        78.4105   \n",
            "197    192      80       211     66.1022     54.0796        78.1577   \n",
            "198    193      80       211     67.8547     61.6138        76.6682   \n",
            "199    194      80       211     67.0448     54.6773        79.3736   \n",
            "\n",
            "     SiPMenergyS  SiPMenergyC  SiPMenergyComb  \\\n",
            "0        64.4329      54.8006         74.9657   \n",
            "1        68.2295      53.1529         82.2301   \n",
            "2        71.3754      71.7258         76.6089   \n",
            "3        66.8107      49.6393         81.9262   \n",
            "4        74.3038      68.0422         83.6208   \n",
            "..           ...          ...             ...   \n",
            "195      70.8372      61.6202         81.6154   \n",
            "196      61.4610      47.6396         74.2131   \n",
            "197      66.1890      59.8087         74.9570   \n",
            "198      70.4775      64.2226         79.4990   \n",
            "199      67.0339      55.5607         78.8397   \n",
            "\n",
            "                                             hitsCoord  \n",
            "0    [[64.2629, -42.832, 25, 646.206], [-56.7614, -...  \n",
            "1    [[10.7522, -18.6445, 25, 987.077], [9.25185, -...  \n",
            "2    [[3.25065, -10.582, 25, 1435.95], [0.25005, -6...  \n",
            "3    [[5.75115, -5.54297, 25, 164.485], [1.75035, -...  \n",
            "4    [[-49.2599, -54.9258, 25, 134.656], [-42.2585,...  \n",
            "..                                                 ...  \n",
            "195  [[7.75155, -4.53516, 25, 797.338], [5.75115, -...  \n",
            "196  [[3.25065, -12.5977, 25, 592.384], [1.75035, -...  \n",
            "197  [[9.25185, -9.57422, 25, 98.18], [7.75155, -10...  \n",
            "198  [[14.2529, -10.582, 25, 126.885], [14.2529, -8...  \n",
            "199  [[14.2529, -58.957, 25, 120.141], [-70.2641, -...  \n",
            "\n",
            "[200 rows x 10 columns]\n",
            "Number of events (Graphs):  200\n",
            "     evtID  truthE  truthPDG  PMTenergyS  PMTenergyC  PMTenergyComb  \\\n",
            "0        3     100       211     82.5028     74.5089        93.3403   \n",
            "1        4     100       211     85.8882     81.1013        95.1091   \n",
            "2        5     100       211     80.7901     63.8777        96.6999   \n",
            "3       54     100       211     84.7553     77.4791        95.3429   \n",
            "4       55     100       211     80.9362     62.0304        98.0192   \n",
            "..     ...     ...       ...         ...         ...            ...   \n",
            "195    151     100       211     89.4285     74.2191       104.9920   \n",
            "196    152     100       211     89.2913     81.9344       100.2660   \n",
            "197    192     100       211     86.5697     66.4314       104.7930   \n",
            "198    193     100       211     84.9058     65.0911       102.8160   \n",
            "199    194     100       211     87.2822     77.1712        99.7120   \n",
            "\n",
            "     SiPMenergyS  SiPMenergyC  SiPMenergyComb  \\\n",
            "0        82.0138      75.8411         91.7528   \n",
            "1        87.1839      79.1382         98.4020   \n",
            "2        78.7017      62.3837         94.1085   \n",
            "3        85.2855      78.4349         95.6647   \n",
            "4        80.2985      61.7295         97.1373   \n",
            "..           ...          ...             ...   \n",
            "195      90.8350      77.2625        105.5490   \n",
            "196      89.9726      84.5994         99.8411   \n",
            "197      87.6761      68.2779        105.5510   \n",
            "198      84.1647      70.7940         98.2618   \n",
            "199      86.8803      79.1383         97.8986   \n",
            "\n",
            "                                             hitsCoord  \n",
            "0    [[3.25065, -18.6445, 25, 1137.61], [-3.25065, ...  \n",
            "1    [[-35.2571, -54.9258, 25, 153.849], [-17.2535,...  \n",
            "2    [[3.25065, -14.6133, 25, 139.648], [14.2529, -...  \n",
            "3    [[7.75155, -14.6133, 25, 155.199], [3.25065, -...  \n",
            "4    [[-98.7698, -52.9102, 25, 831.197], [16.2533, ...  \n",
            "..                                                 ...  \n",
            "195  [[3.25065, -12.5977, 25, 1338.67], [5.75115, -...  \n",
            "196  [[-1.75035, -7.55859, 25, 287.241], [7.75155, ...  \n",
            "197  [[10.7522, -16.6289, 25, 1238.44], [9.25185, -...  \n",
            "198  [[0.25005, -4.53516, 25, 151.853], [14.2529, -...  \n",
            "199  [[-24.755, -4.53516, 25, 158.226], [86.7674, 5...  \n",
            "\n",
            "[200 rows x 10 columns]\n",
            "Number of events (Graphs):  200\n"
          ]
        }
      ],
      "source": [
        "hit_dataset = []\n",
        "make_dataset(hit_dataset, myDF10, 'hitsCoord', 'truthE', input_features, node_features)\n",
        "make_dataset(hit_dataset, myDF20, 'hitsCoord', 'truthE', input_features, node_features)\n",
        "make_dataset(hit_dataset, myDF30, 'hitsCoord', 'truthE', input_features, node_features)\n",
        "make_dataset(hit_dataset, myDF40, 'hitsCoord', 'truthE', input_features, node_features)\n",
        "make_dataset(hit_dataset, myDF60, 'hitsCoord', 'truthE', input_features, node_features)\n",
        "make_dataset(hit_dataset, myDF80, 'hitsCoord', 'truthE', input_features, node_features)\n",
        "make_dataset(hit_dataset, myDF100, 'hitsCoord', 'truthE', input_features, node_features)\n",
        "\n"
      ]
    },
    {
      "cell_type": "markdown",
      "metadata": {
        "id": "nyS072L1bbS6"
      },
      "source": [
        "We can now proceed with splitting the whole dataset in a training and a validation sample:"
      ]
    },
    {
      "cell_type": "code",
      "execution_count": null,
      "metadata": {
        "colab": {
          "base_uri": "https://localhost:8080/"
        },
        "id": "YWAx48oYbj9K",
        "outputId": "f5ccc563-99ff-4904-ac03-2793f49c7326"
      },
      "outputs": [
        {
          "name": "stdout",
          "output_type": "stream",
          "text": [
            "DataBatch(x=[28081, 10], y=[32], num_nodes=28081, batch=[28081], ptr=[33])\n",
            "tensor([ 0,  0,  0,  ..., 31, 31, 31])\n"
          ]
        }
      ],
      "source": [
        "from sklearn.model_selection import train_test_split\n",
        "dataset_size = len(hit_dataset)\n",
        "val_split = 0.2\n",
        "val_size = int(val_split * dataset_size)\n",
        "train_size = dataset_size - val_size\n",
        "hit_dataset_train, hit_dataset_val = train_test_split(hit_dataset, test_size = val_size, train_size = train_size, shuffle=True)\n",
        "\n",
        "batch_size = 32\n",
        "hit_loader_train = DataLoader(hit_dataset_train, batch_size=batch_size, shuffle=True)\n",
        "hit_loader_val = DataLoader(hit_dataset_val, batch_size=batch_size, shuffle=True)\n",
        "for data in hit_loader_val:\n",
        "    print(data)\n",
        "    print(data.batch)\n",
        "    break\n"
      ]
    },
    {
      "cell_type": "markdown",
      "metadata": {
        "id": "pk-TbCPUch2b"
      },
      "source": [
        "We can now start with the implementation of the Particle-Net like GNN:\n",
        "\n",
        "Let's start with considering the features of the nodes we have to consider"
      ]
    },
    {
      "cell_type": "code",
      "execution_count": null,
      "metadata": {
        "id": "G9p7-FKncv57"
      },
      "outputs": [],
      "source": [
        "features_to_consider = 'PMTenergyS,PMTenergyC,PMTenergyComb,SiPMenergyS,SiPMenergyC,SiPMenergyComb,x,y,z,E'.split(',')\n",
        "\n",
        "\n",
        "class ParticleNetEdgeNet(nn.Module):\n",
        "    def __init__(self, in_size, layer_size):\n",
        "        super(ParticleNetEdgeNet, self).__init__()\n",
        "\n",
        "        layers = []\n",
        "        layers.append(nn.Linear(in_size*2, layer_size))           # directed Graph\n",
        "        #layers.append(nn.Linear(in_size*2, layer_size))           # un-directed Graph\n",
        "        layers.append(nn.BatchNorm1d(layer_size))\n",
        "        layers.append(nn.ReLU())\n",
        "\n",
        "        for i in range(2):\n",
        "            layers.append(nn.Linear(layer_size, layer_size))\n",
        "            layers.append(nn.BatchNorm1d(layer_size))\n",
        "            layers.append(nn.ReLU())\n",
        "\n",
        "        self.model = nn.Sequential(*layers)\n",
        "\n",
        "\n",
        "    def forward(self, x):\n",
        "        return self.model(x)\n",
        "\n",
        "    def __repr__(self):\n",
        "        return \"{}(nn={})\".format(self.__class__.__name__, self.model)\n",
        "\n"
      ]
    },
    {
      "cell_type": "markdown",
      "metadata": {
        "id": "CpkBfV-cdj_t"
      },
      "source": []
    },
    {
      "cell_type": "code",
      "execution_count": null,
      "metadata": {
        "id": "g6it-XnLdnFs"
      },
      "outputs": [],
      "source": [
        "class ParticleNet(nn.Module):\n",
        "    def __init__(self, node_feat_size, num_classes=1):\n",
        "        super(ParticleNet, self).__init__()\n",
        "        self.node_feat_size = node_feat_size\n",
        "        self.num_classes = num_classes\n",
        "\n",
        "        self.k = 10  #8                                            # K  number of connections to closest nodes in KNN cluster neighbor\n",
        "        self.num_edge_convs = 3                     # number of stacked EdgeConv blocks\n",
        "        self.kernel_sizes = [64, 128, 256]          # number of units in three linear transformation layers in EdgeConv blocks\n",
        "        #self.kernel_sizes = [32, 64, 128]          # number of units in three linear transformation layers in EdgeConv blocks\n",
        "        self.fc_size = 256                          # units  in the first fully-connected layer after EdgeConv blocks\n",
        "        self.dropout = 0.1\n",
        "        self.edge_nets = nn.ModuleList()\n",
        "        self.edge_convs = nn.ModuleList()\n",
        "\n",
        "        self.kernel_sizes.insert(0, self.node_feat_size)\n",
        "        self.output_sizes = np.cumsum(self.kernel_sizes)        # inputs also include previous layer output\n",
        "\n",
        "        # first EdgeConv block\n",
        "        self.edge_nets.append(ParticleNetEdgeNet(self.node_feat_size, self.kernel_sizes[1]))\n",
        "        self.edge_convs.append(EdgeConv(self.edge_nets[-1], aggr=\"mean\"))\n",
        "\n",
        "        # stack other EdgeConv blocks on the first\n",
        "        for i in range(1, self.num_edge_convs):\n",
        "            print(\"self.num_edge_convs\", i)\n",
        "            # add kernel sizes because of skip connections\n",
        "            self.edge_nets.append( ParticleNetEdgeNet(self.output_sizes[i], self.kernel_sizes[i+1]) )\n",
        "            self.edge_convs.append(EdgeConv(self.edge_nets[-1], aggr=\"mean\"))\n",
        "\n",
        "        self.fc1 = nn.Sequential(nn.Linear(self.output_sizes[-1], self.fc_size))\n",
        "        self.drouput_layer = nn.Dropout(p=self.dropout)\n",
        "        self.fc2 = nn.Linear(self.fc_size, self.num_classes)\n",
        "\n",
        "\n",
        "\n",
        "    def forward(self, data):\n",
        "        x = data.x\n",
        "        batch = data.batch\n",
        "        for i in range(self.num_edge_convs):\n",
        "            #print(x[:, 2:5])\n",
        "            # node features:  PMTenergyS, PMTenergyC, PMTenergyComb, SiPMenergyS, SiPMenergyC, SiPMenergyComb, hitX, hitY, hitZ, hitE'\n",
        "            edge_index = ( knn_graph(x[:, 6:9], self.k, batch) if i==0 else knn_graph(x, self.k, batch) )\n",
        "            #x = ( torch.cat(self.edge_convs[i](x, edge_index), x), dim=1 )\n",
        "            x = torch.cat( (self.edge_convs[i](x, edge_index), x), dim=1 )  # concatenating with original features i.e. skip connection\n",
        "        x = global_mean_pool(x, batch)\n",
        "        x = self.fc1(x)\n",
        "\n",
        "        return self.fc2(x)\n",
        "\n",
        "\n",
        "\n"
      ]
    },
    {
      "cell_type": "code",
      "execution_count": null,
      "metadata": {
        "id": "OrBEFPegd4nj"
      },
      "outputs": [],
      "source": [
        "def gnn_model_summary(model):\n",
        "    model_params_list = list(model.named_parameters())\n",
        "    print(\"----------------------------------------------------------------\")\n",
        "    line_new = \"{:>20}  {:>25} {:>15}\".format(\"Layer.Parameter\", \"Param Tensor Shape\", \"Param #\")\n",
        "    print(line_new)\n",
        "    print(\"----------------------------------------------------------------\")\n",
        "    for elem in model_params_list:\n",
        "        p_name = elem[0]\n",
        "        p_shape = list(elem[1].size())\n",
        "        p_count = torch.tensor(elem[1].size()).prod().item()\n",
        "        line_new = \"{:>20}  {:>25} {:>15}\".format(p_name, str(p_shape), str(p_count))\n",
        "        print(line_new)\n",
        "    print(\"----------------------------------------------------------------\")\n",
        "    total_params = sum([param.nelement() for param in model.parameters()])\n",
        "    print(\"Total params:\", total_params)\n",
        "    num_trainable_params = sum(p.numel() for p in model.parameters() if p.requires_grad)\n",
        "    print(\"Trainable params:\", num_trainable_params)\n",
        "    print(\"Non-trainable params:\", total_params - num_trainable_params)\n"
      ]
    },
    {
      "cell_type": "code",
      "execution_count": null,
      "metadata": {
        "id": "cpLlzzKBfaNc"
      },
      "outputs": [],
      "source": [
        "def train_test_one_epoch(model,jets_loader, device, optimizer, loss_fn, batch_size, history, mode='train'):\n",
        "    if mode=='train':\n",
        "        model.train(True)\n",
        "    else:\n",
        "        model.train(False)\n",
        "\n",
        "    #epoch_loss = 0\n",
        "    #epoch_acc = 0\n",
        "    #return epoch_loss, epoch_acc\n",
        "    running_loss, running_correct = 0.,0.\n",
        "    tot_iter = len(jets_loader)\n",
        "    t = tqdm.tqdm(enumerate(jets_loader),total=tot_iter)\n",
        "    for i, data in t:\n",
        "        inputs = data # For the inputs we are passing the whole Data() object\n",
        "        labels = data.y.unsqueeze(1)\n",
        "        inputs = inputs.to(device)\n",
        "        labels = labels.to(device)\n",
        "        #print(data)\n",
        "        #print(type(data))\n",
        "\n",
        "        optimizer.zero_grad() # Clear gradients\n",
        "        #outputs = gnn(inputs) # Perform a single forward pass\n",
        "        outputs = model(inputs) # Perform a single forward pass\n",
        "\n",
        "        loss = loss_fn(outputs, labels) # Compute the loss\n",
        "        if mode=='train':\n",
        "            loss.backward()  # Derive gradients\n",
        "            optimizer.step() # Update parameters based on gradients.\n",
        "\n",
        "        running_loss += loss.item() #.item() returns average loss over the batch\n",
        "        #print(labels, outputs.T, loss)\n",
        "\n",
        "        del loss\n",
        "\n",
        "        #_, predicted = torch.max(F.softmax(outputs,dim=1).data, dim=1) # Adding softmax since there is none in the model, and taking the index of the highest probability.\n",
        "        #running_correct += float(torch.sum(predicted == labels.data))\n",
        "\n",
        "        #print(_)\n",
        "\n",
        "    epoch_loss = running_loss / tot_iter\n",
        "    #epoch_acc = running_correct / (tot_iter*batch_size)\n",
        "    history.append( running_loss/tot_iter)\n",
        "\n",
        "    return epoch_loss, outputs\n",
        "\n"
      ]
    },
    {
      "cell_type": "code",
      "execution_count": null,
      "metadata": {
        "colab": {
          "background_save": true,
          "base_uri": "https://localhost:8080/"
        },
        "id": "qKf16NaGfgyM",
        "outputId": "5d6748a8-08d7-43de-ed3c-4f3b70cd8533"
      },
      "outputs": [
        {
          "name": "stdout",
          "output_type": "stream",
          "text": [
            "self.num_edge_convs 1\n",
            "self.num_edge_convs 2\n",
            "----------------------------------------------------------------\n",
            "     Layer.Parameter         Param Tensor Shape         Param #\n",
            "----------------------------------------------------------------\n",
            "edge_nets.0.model.0.weight                   [64, 20]            1280\n",
            "edge_nets.0.model.0.bias                       [64]              64\n",
            "edge_nets.0.model.1.weight                       [64]              64\n",
            "edge_nets.0.model.1.bias                       [64]              64\n",
            "edge_nets.0.model.3.weight                   [64, 64]            4096\n",
            "edge_nets.0.model.3.bias                       [64]              64\n",
            "edge_nets.0.model.4.weight                       [64]              64\n",
            "edge_nets.0.model.4.bias                       [64]              64\n",
            "edge_nets.0.model.6.weight                   [64, 64]            4096\n",
            "edge_nets.0.model.6.bias                       [64]              64\n",
            "edge_nets.0.model.7.weight                       [64]              64\n",
            "edge_nets.0.model.7.bias                       [64]              64\n",
            "edge_nets.1.model.0.weight                 [128, 148]           18944\n",
            "edge_nets.1.model.0.bias                      [128]             128\n",
            "edge_nets.1.model.1.weight                      [128]             128\n",
            "edge_nets.1.model.1.bias                      [128]             128\n",
            "edge_nets.1.model.3.weight                 [128, 128]           16384\n",
            "edge_nets.1.model.3.bias                      [128]             128\n",
            "edge_nets.1.model.4.weight                      [128]             128\n",
            "edge_nets.1.model.4.bias                      [128]             128\n",
            "edge_nets.1.model.6.weight                 [128, 128]           16384\n",
            "edge_nets.1.model.6.bias                      [128]             128\n",
            "edge_nets.1.model.7.weight                      [128]             128\n",
            "edge_nets.1.model.7.bias                      [128]             128\n",
            "edge_nets.2.model.0.weight                 [256, 404]          103424\n",
            "edge_nets.2.model.0.bias                      [256]             256\n",
            "edge_nets.2.model.1.weight                      [256]             256\n",
            "edge_nets.2.model.1.bias                      [256]             256\n",
            "edge_nets.2.model.3.weight                 [256, 256]           65536\n",
            "edge_nets.2.model.3.bias                      [256]             256\n",
            "edge_nets.2.model.4.weight                      [256]             256\n",
            "edge_nets.2.model.4.bias                      [256]             256\n",
            "edge_nets.2.model.6.weight                 [256, 256]           65536\n",
            "edge_nets.2.model.6.bias                      [256]             256\n",
            "edge_nets.2.model.7.weight                      [256]             256\n",
            "edge_nets.2.model.7.bias                      [256]             256\n",
            "        fc1.0.weight                 [256, 458]          117248\n",
            "          fc1.0.bias                      [256]             256\n",
            "          fc2.weight                   [1, 256]             256\n",
            "            fc2.bias                        [1]               1\n",
            "----------------------------------------------------------------\n",
            "Total params: 417473\n",
            "Trainable params: 417473\n",
            "Non-trainable params: 0\n",
            "[Data(x=[393, 10], y=10.0, num_nodes=393), Data(x=[802, 10], y=20.0, num_nodes=802), Data(x=[1000, 10], y=30.0, num_nodes=1000), Data(x=[1000, 10], y=40.0, num_nodes=1000), Data(x=[331, 10], y=10.0, num_nodes=331), Data(x=[555, 10], y=20.0, num_nodes=555), Data(x=[1000, 10], y=80.0, num_nodes=1000), Data(x=[1000, 10], y=100.0, num_nodes=1000), Data(x=[1000, 10], y=40.0, num_nodes=1000), Data(x=[1000, 10], y=40.0, num_nodes=1000)]\n",
            "EPOCH 1:\n"
          ]
        },
        {
          "name": "stderr",
          "output_type": "stream",
          "text": [
            "100%|██████████| 35/35 [12:12<00:00, 20.93s/it]\n",
            "100%|██████████| 9/9 [01:08<00:00,  7.56s/it]\n"
          ]
        },
        {
          "name": "stdout",
          "output_type": "stream",
          "text": [
            "LOSS train 17.317, valid 7.104\n",
            "EPOCH 2:\n"
          ]
        },
        {
          "name": "stderr",
          "output_type": "stream",
          "text": [
            "100%|██████████| 35/35 [11:26<00:00, 19.62s/it]\n",
            "100%|██████████| 9/9 [01:14<00:00,  8.26s/it]\n"
          ]
        },
        {
          "name": "stdout",
          "output_type": "stream",
          "text": [
            "LOSS train 5.559, valid 6.827\n",
            "EPOCH 3:\n"
          ]
        },
        {
          "name": "stderr",
          "output_type": "stream",
          "text": [
            "100%|██████████| 35/35 [11:50<00:00, 20.30s/it]\n",
            "100%|██████████| 9/9 [01:06<00:00,  7.41s/it]\n"
          ]
        },
        {
          "name": "stdout",
          "output_type": "stream",
          "text": [
            "LOSS train 2.817, valid 4.398\n",
            "EPOCH 4:\n"
          ]
        },
        {
          "name": "stderr",
          "output_type": "stream",
          "text": [
            "  0%|          | 0/35 [00:07<?, ?it/s]\n"
          ]
        },
        {
          "ename": "KeyboardInterrupt",
          "evalue": "ignored",
          "output_type": "error",
          "traceback": [
            "\u001b[0;31m---------------------------------------------------------------------------\u001b[0m",
            "\u001b[0;31mKeyboardInterrupt\u001b[0m                         Traceback (most recent call last)",
            "\u001b[0;32m<ipython-input-15-596e1c0cf7aa>\u001b[0m in \u001b[0;36m<cell line: 19>\u001b[0;34m()\u001b[0m\n\u001b[1;32m     20\u001b[0m     \u001b[0mprint\u001b[0m\u001b[0;34m(\u001b[0m\u001b[0;34m'EPOCH {}:'\u001b[0m\u001b[0;34m.\u001b[0m\u001b[0mformat\u001b[0m\u001b[0;34m(\u001b[0m\u001b[0mepoch\u001b[0m \u001b[0;34m+\u001b[0m \u001b[0;36m1\u001b[0m\u001b[0;34m)\u001b[0m\u001b[0;34m)\u001b[0m\u001b[0;34m\u001b[0m\u001b[0;34m\u001b[0m\u001b[0m\n\u001b[1;32m     21\u001b[0m \u001b[0;34m\u001b[0m\u001b[0m\n\u001b[0;32m---> 22\u001b[0;31m     \u001b[0mloss_train_epoch\u001b[0m\u001b[0;34m,\u001b[0m  \u001b[0my_pred_train\u001b[0m \u001b[0;34m=\u001b[0m \u001b[0mtrain_test_one_epoch\u001b[0m\u001b[0;34m(\u001b[0m\u001b[0mgnn\u001b[0m\u001b[0;34m,\u001b[0m \u001b[0mhit_loader_train\u001b[0m\u001b[0;34m,\u001b[0m \u001b[0mdevice\u001b[0m\u001b[0;34m,\u001b[0m \u001b[0moptimizer\u001b[0m\u001b[0;34m,\u001b[0m \u001b[0mloss_fn\u001b[0m\u001b[0;34m,\u001b[0m \u001b[0mbatch_size\u001b[0m\u001b[0;34m,\u001b[0m \u001b[0mhistory_train\u001b[0m\u001b[0;34m,\u001b[0m \u001b[0mmode\u001b[0m \u001b[0;34m=\u001b[0m \u001b[0;34m'train'\u001b[0m\u001b[0;34m)\u001b[0m\u001b[0;34m\u001b[0m\u001b[0;34m\u001b[0m\u001b[0m\n\u001b[0m\u001b[1;32m     23\u001b[0m     \u001b[0mloss_val_epoch\u001b[0m\u001b[0;34m,\u001b[0m \u001b[0my_pred_val\u001b[0m \u001b[0;34m=\u001b[0m \u001b[0mtrain_test_one_epoch\u001b[0m\u001b[0;34m(\u001b[0m\u001b[0mgnn\u001b[0m\u001b[0;34m,\u001b[0m \u001b[0mhit_loader_val\u001b[0m\u001b[0;34m,\u001b[0m \u001b[0mdevice\u001b[0m\u001b[0;34m,\u001b[0m \u001b[0moptimizer\u001b[0m\u001b[0;34m,\u001b[0m \u001b[0mloss_fn\u001b[0m\u001b[0;34m,\u001b[0m \u001b[0mbatch_size\u001b[0m\u001b[0;34m,\u001b[0m \u001b[0mhistory_val\u001b[0m\u001b[0;34m,\u001b[0m \u001b[0mmode\u001b[0m \u001b[0;34m=\u001b[0m \u001b[0;34m'test'\u001b[0m\u001b[0;34m)\u001b[0m\u001b[0;34m\u001b[0m\u001b[0;34m\u001b[0m\u001b[0m\n\u001b[1;32m     24\u001b[0m     \u001b[0mprint\u001b[0m\u001b[0;34m(\u001b[0m\u001b[0;34m'LOSS train {:.3f}, valid {:.3f}'\u001b[0m\u001b[0;34m.\u001b[0m\u001b[0mformat\u001b[0m\u001b[0;34m(\u001b[0m\u001b[0mloss_train_epoch\u001b[0m\u001b[0;34m,\u001b[0m \u001b[0mloss_val_epoch\u001b[0m\u001b[0;34m)\u001b[0m\u001b[0;34m)\u001b[0m\u001b[0;34m\u001b[0m\u001b[0;34m\u001b[0m\u001b[0m\n",
            "\u001b[0;32m<ipython-input-14-c5527784c39f>\u001b[0m in \u001b[0;36mtrain_test_one_epoch\u001b[0;34m(model, jets_loader, device, optimizer, loss_fn, batch_size, history, mode)\u001b[0m\n\u001b[1;32m     21\u001b[0m         \u001b[0moptimizer\u001b[0m\u001b[0;34m.\u001b[0m\u001b[0mzero_grad\u001b[0m\u001b[0;34m(\u001b[0m\u001b[0;34m)\u001b[0m \u001b[0;31m# Clear gradients\u001b[0m\u001b[0;34m\u001b[0m\u001b[0;34m\u001b[0m\u001b[0m\n\u001b[1;32m     22\u001b[0m         \u001b[0;31m#outputs = gnn(inputs) # Perform a single forward pass\u001b[0m\u001b[0;34m\u001b[0m\u001b[0;34m\u001b[0m\u001b[0m\n\u001b[0;32m---> 23\u001b[0;31m         \u001b[0moutputs\u001b[0m \u001b[0;34m=\u001b[0m \u001b[0mmodel\u001b[0m\u001b[0;34m(\u001b[0m\u001b[0minputs\u001b[0m\u001b[0;34m)\u001b[0m \u001b[0;31m# Perform a single forward pass\u001b[0m\u001b[0;34m\u001b[0m\u001b[0;34m\u001b[0m\u001b[0m\n\u001b[0m\u001b[1;32m     24\u001b[0m \u001b[0;34m\u001b[0m\u001b[0m\n\u001b[1;32m     25\u001b[0m         \u001b[0mloss\u001b[0m \u001b[0;34m=\u001b[0m \u001b[0mloss_fn\u001b[0m\u001b[0;34m(\u001b[0m\u001b[0moutputs\u001b[0m\u001b[0;34m,\u001b[0m \u001b[0mlabels\u001b[0m\u001b[0;34m)\u001b[0m \u001b[0;31m# Compute the loss\u001b[0m\u001b[0;34m\u001b[0m\u001b[0;34m\u001b[0m\u001b[0m\n",
            "\u001b[0;32m/usr/local/lib/python3.10/dist-packages/torch/nn/modules/module.py\u001b[0m in \u001b[0;36m_call_impl\u001b[0;34m(self, *args, **kwargs)\u001b[0m\n\u001b[1;32m   1499\u001b[0m                 \u001b[0;32mor\u001b[0m \u001b[0m_global_backward_pre_hooks\u001b[0m \u001b[0;32mor\u001b[0m \u001b[0m_global_backward_hooks\u001b[0m\u001b[0;34m\u001b[0m\u001b[0;34m\u001b[0m\u001b[0m\n\u001b[1;32m   1500\u001b[0m                 or _global_forward_hooks or _global_forward_pre_hooks):\n\u001b[0;32m-> 1501\u001b[0;31m             \u001b[0;32mreturn\u001b[0m \u001b[0mforward_call\u001b[0m\u001b[0;34m(\u001b[0m\u001b[0;34m*\u001b[0m\u001b[0margs\u001b[0m\u001b[0;34m,\u001b[0m \u001b[0;34m**\u001b[0m\u001b[0mkwargs\u001b[0m\u001b[0;34m)\u001b[0m\u001b[0;34m\u001b[0m\u001b[0;34m\u001b[0m\u001b[0m\n\u001b[0m\u001b[1;32m   1502\u001b[0m         \u001b[0;31m# Do not call functions when jit is used\u001b[0m\u001b[0;34m\u001b[0m\u001b[0;34m\u001b[0m\u001b[0m\n\u001b[1;32m   1503\u001b[0m         \u001b[0mfull_backward_hooks\u001b[0m\u001b[0;34m,\u001b[0m \u001b[0mnon_full_backward_hooks\u001b[0m \u001b[0;34m=\u001b[0m \u001b[0;34m[\u001b[0m\u001b[0;34m]\u001b[0m\u001b[0;34m,\u001b[0m \u001b[0;34m[\u001b[0m\u001b[0;34m]\u001b[0m\u001b[0;34m\u001b[0m\u001b[0;34m\u001b[0m\u001b[0m\n",
            "\u001b[0;32m<ipython-input-12-794a880c7f7d>\u001b[0m in \u001b[0;36mforward\u001b[0;34m(self, data)\u001b[0m\n\u001b[1;32m     42\u001b[0m             \u001b[0medge_index\u001b[0m \u001b[0;34m=\u001b[0m \u001b[0;34m(\u001b[0m \u001b[0mknn_graph\u001b[0m\u001b[0;34m(\u001b[0m\u001b[0mx\u001b[0m\u001b[0;34m[\u001b[0m\u001b[0;34m:\u001b[0m\u001b[0;34m,\u001b[0m \u001b[0;36m6\u001b[0m\u001b[0;34m:\u001b[0m\u001b[0;36m9\u001b[0m\u001b[0;34m]\u001b[0m\u001b[0;34m,\u001b[0m \u001b[0mself\u001b[0m\u001b[0;34m.\u001b[0m\u001b[0mk\u001b[0m\u001b[0;34m,\u001b[0m \u001b[0mbatch\u001b[0m\u001b[0;34m)\u001b[0m \u001b[0;32mif\u001b[0m \u001b[0mi\u001b[0m\u001b[0;34m==\u001b[0m\u001b[0;36m0\u001b[0m \u001b[0;32melse\u001b[0m \u001b[0mknn_graph\u001b[0m\u001b[0;34m(\u001b[0m\u001b[0mx\u001b[0m\u001b[0;34m,\u001b[0m \u001b[0mself\u001b[0m\u001b[0;34m.\u001b[0m\u001b[0mk\u001b[0m\u001b[0;34m,\u001b[0m \u001b[0mbatch\u001b[0m\u001b[0;34m)\u001b[0m \u001b[0;34m)\u001b[0m\u001b[0;34m\u001b[0m\u001b[0;34m\u001b[0m\u001b[0m\n\u001b[1;32m     43\u001b[0m             \u001b[0;31m#x = ( torch.cat(self.edge_convs[i](x, edge_index), x), dim=1 )\u001b[0m\u001b[0;34m\u001b[0m\u001b[0;34m\u001b[0m\u001b[0m\n\u001b[0;32m---> 44\u001b[0;31m             \u001b[0mx\u001b[0m \u001b[0;34m=\u001b[0m \u001b[0mtorch\u001b[0m\u001b[0;34m.\u001b[0m\u001b[0mcat\u001b[0m\u001b[0;34m(\u001b[0m \u001b[0;34m(\u001b[0m\u001b[0mself\u001b[0m\u001b[0;34m.\u001b[0m\u001b[0medge_convs\u001b[0m\u001b[0;34m[\u001b[0m\u001b[0mi\u001b[0m\u001b[0;34m]\u001b[0m\u001b[0;34m(\u001b[0m\u001b[0mx\u001b[0m\u001b[0;34m,\u001b[0m \u001b[0medge_index\u001b[0m\u001b[0;34m)\u001b[0m\u001b[0;34m,\u001b[0m \u001b[0mx\u001b[0m\u001b[0;34m)\u001b[0m\u001b[0;34m,\u001b[0m \u001b[0mdim\u001b[0m\u001b[0;34m=\u001b[0m\u001b[0;36m1\u001b[0m \u001b[0;34m)\u001b[0m  \u001b[0;31m# concatenating with original features i.e. skip connection\u001b[0m\u001b[0;34m\u001b[0m\u001b[0;34m\u001b[0m\u001b[0m\n\u001b[0m\u001b[1;32m     45\u001b[0m         \u001b[0mx\u001b[0m \u001b[0;34m=\u001b[0m \u001b[0mglobal_mean_pool\u001b[0m\u001b[0;34m(\u001b[0m\u001b[0mx\u001b[0m\u001b[0;34m,\u001b[0m \u001b[0mbatch\u001b[0m\u001b[0;34m)\u001b[0m\u001b[0;34m\u001b[0m\u001b[0;34m\u001b[0m\u001b[0m\n\u001b[1;32m     46\u001b[0m         \u001b[0mx\u001b[0m \u001b[0;34m=\u001b[0m \u001b[0mself\u001b[0m\u001b[0;34m.\u001b[0m\u001b[0mfc1\u001b[0m\u001b[0;34m(\u001b[0m\u001b[0mx\u001b[0m\u001b[0;34m)\u001b[0m\u001b[0;34m\u001b[0m\u001b[0;34m\u001b[0m\u001b[0m\n",
            "\u001b[0;32m/usr/local/lib/python3.10/dist-packages/torch/nn/modules/module.py\u001b[0m in \u001b[0;36m_call_impl\u001b[0;34m(self, *args, **kwargs)\u001b[0m\n\u001b[1;32m   1499\u001b[0m                 \u001b[0;32mor\u001b[0m \u001b[0m_global_backward_pre_hooks\u001b[0m \u001b[0;32mor\u001b[0m \u001b[0m_global_backward_hooks\u001b[0m\u001b[0;34m\u001b[0m\u001b[0;34m\u001b[0m\u001b[0m\n\u001b[1;32m   1500\u001b[0m                 or _global_forward_hooks or _global_forward_pre_hooks):\n\u001b[0;32m-> 1501\u001b[0;31m             \u001b[0;32mreturn\u001b[0m \u001b[0mforward_call\u001b[0m\u001b[0;34m(\u001b[0m\u001b[0;34m*\u001b[0m\u001b[0margs\u001b[0m\u001b[0;34m,\u001b[0m \u001b[0;34m**\u001b[0m\u001b[0mkwargs\u001b[0m\u001b[0;34m)\u001b[0m\u001b[0;34m\u001b[0m\u001b[0;34m\u001b[0m\u001b[0m\n\u001b[0m\u001b[1;32m   1502\u001b[0m         \u001b[0;31m# Do not call functions when jit is used\u001b[0m\u001b[0;34m\u001b[0m\u001b[0;34m\u001b[0m\u001b[0m\n\u001b[1;32m   1503\u001b[0m         \u001b[0mfull_backward_hooks\u001b[0m\u001b[0;34m,\u001b[0m \u001b[0mnon_full_backward_hooks\u001b[0m \u001b[0;34m=\u001b[0m \u001b[0;34m[\u001b[0m\u001b[0;34m]\u001b[0m\u001b[0;34m,\u001b[0m \u001b[0;34m[\u001b[0m\u001b[0;34m]\u001b[0m\u001b[0;34m\u001b[0m\u001b[0;34m\u001b[0m\u001b[0m\n",
            "\u001b[0;32m/usr/local/lib/python3.10/dist-packages/torch_geometric/nn/conv/edge_conv.py\u001b[0m in \u001b[0;36mforward\u001b[0;34m(self, x, edge_index)\u001b[0m\n\u001b[1;32m     58\u001b[0m             \u001b[0mx\u001b[0m\u001b[0;34m:\u001b[0m \u001b[0mPairTensor\u001b[0m \u001b[0;34m=\u001b[0m \u001b[0;34m(\u001b[0m\u001b[0mx\u001b[0m\u001b[0;34m,\u001b[0m \u001b[0mx\u001b[0m\u001b[0;34m)\u001b[0m\u001b[0;34m\u001b[0m\u001b[0;34m\u001b[0m\u001b[0m\n\u001b[1;32m     59\u001b[0m         \u001b[0;31m# propagate_type: (x: PairTensor)\u001b[0m\u001b[0;34m\u001b[0m\u001b[0;34m\u001b[0m\u001b[0m\n\u001b[0;32m---> 60\u001b[0;31m         \u001b[0;32mreturn\u001b[0m \u001b[0mself\u001b[0m\u001b[0;34m.\u001b[0m\u001b[0mpropagate\u001b[0m\u001b[0;34m(\u001b[0m\u001b[0medge_index\u001b[0m\u001b[0;34m,\u001b[0m \u001b[0mx\u001b[0m\u001b[0;34m=\u001b[0m\u001b[0mx\u001b[0m\u001b[0;34m,\u001b[0m \u001b[0msize\u001b[0m\u001b[0;34m=\u001b[0m\u001b[0;32mNone\u001b[0m\u001b[0;34m)\u001b[0m\u001b[0;34m\u001b[0m\u001b[0;34m\u001b[0m\u001b[0m\n\u001b[0m\u001b[1;32m     61\u001b[0m \u001b[0;34m\u001b[0m\u001b[0m\n\u001b[1;32m     62\u001b[0m     \u001b[0;32mdef\u001b[0m \u001b[0mmessage\u001b[0m\u001b[0;34m(\u001b[0m\u001b[0mself\u001b[0m\u001b[0;34m,\u001b[0m \u001b[0mx_i\u001b[0m\u001b[0;34m:\u001b[0m \u001b[0mTensor\u001b[0m\u001b[0;34m,\u001b[0m \u001b[0mx_j\u001b[0m\u001b[0;34m:\u001b[0m \u001b[0mTensor\u001b[0m\u001b[0;34m)\u001b[0m \u001b[0;34m->\u001b[0m \u001b[0mTensor\u001b[0m\u001b[0;34m:\u001b[0m\u001b[0;34m\u001b[0m\u001b[0;34m\u001b[0m\u001b[0m\n",
            "\u001b[0;32m/usr/local/lib/python3.10/dist-packages/torch_geometric/nn/conv/message_passing.py\u001b[0m in \u001b[0;36mpropagate\u001b[0;34m(self, edge_index, size, **kwargs)\u001b[0m\n\u001b[1;32m    461\u001b[0m                     \u001b[0;32mif\u001b[0m \u001b[0mres\u001b[0m \u001b[0;32mis\u001b[0m \u001b[0;32mnot\u001b[0m \u001b[0;32mNone\u001b[0m\u001b[0;34m:\u001b[0m\u001b[0;34m\u001b[0m\u001b[0;34m\u001b[0m\u001b[0m\n\u001b[1;32m    462\u001b[0m                         \u001b[0mmsg_kwargs\u001b[0m \u001b[0;34m=\u001b[0m \u001b[0mres\u001b[0m\u001b[0;34m[\u001b[0m\u001b[0;36m0\u001b[0m\u001b[0;34m]\u001b[0m \u001b[0;32mif\u001b[0m \u001b[0misinstance\u001b[0m\u001b[0;34m(\u001b[0m\u001b[0mres\u001b[0m\u001b[0;34m,\u001b[0m \u001b[0mtuple\u001b[0m\u001b[0;34m)\u001b[0m \u001b[0;32melse\u001b[0m \u001b[0mres\u001b[0m\u001b[0;34m\u001b[0m\u001b[0;34m\u001b[0m\u001b[0m\n\u001b[0;32m--> 463\u001b[0;31m                 \u001b[0mout\u001b[0m \u001b[0;34m=\u001b[0m \u001b[0mself\u001b[0m\u001b[0;34m.\u001b[0m\u001b[0mmessage\u001b[0m\u001b[0;34m(\u001b[0m\u001b[0;34m**\u001b[0m\u001b[0mmsg_kwargs\u001b[0m\u001b[0;34m)\u001b[0m\u001b[0;34m\u001b[0m\u001b[0;34m\u001b[0m\u001b[0m\n\u001b[0m\u001b[1;32m    464\u001b[0m                 \u001b[0;32mfor\u001b[0m \u001b[0mhook\u001b[0m \u001b[0;32min\u001b[0m \u001b[0mself\u001b[0m\u001b[0;34m.\u001b[0m\u001b[0m_message_forward_hooks\u001b[0m\u001b[0;34m.\u001b[0m\u001b[0mvalues\u001b[0m\u001b[0;34m(\u001b[0m\u001b[0;34m)\u001b[0m\u001b[0;34m:\u001b[0m\u001b[0;34m\u001b[0m\u001b[0;34m\u001b[0m\u001b[0m\n\u001b[1;32m    465\u001b[0m                     \u001b[0mres\u001b[0m \u001b[0;34m=\u001b[0m \u001b[0mhook\u001b[0m\u001b[0;34m(\u001b[0m\u001b[0mself\u001b[0m\u001b[0;34m,\u001b[0m \u001b[0;34m(\u001b[0m\u001b[0mmsg_kwargs\u001b[0m\u001b[0;34m,\u001b[0m \u001b[0;34m)\u001b[0m\u001b[0;34m,\u001b[0m \u001b[0mout\u001b[0m\u001b[0;34m)\u001b[0m\u001b[0;34m\u001b[0m\u001b[0;34m\u001b[0m\u001b[0m\n",
            "\u001b[0;32m/usr/local/lib/python3.10/dist-packages/torch_geometric/nn/conv/edge_conv.py\u001b[0m in \u001b[0;36mmessage\u001b[0;34m(self, x_i, x_j)\u001b[0m\n\u001b[1;32m     61\u001b[0m \u001b[0;34m\u001b[0m\u001b[0m\n\u001b[1;32m     62\u001b[0m     \u001b[0;32mdef\u001b[0m \u001b[0mmessage\u001b[0m\u001b[0;34m(\u001b[0m\u001b[0mself\u001b[0m\u001b[0;34m,\u001b[0m \u001b[0mx_i\u001b[0m\u001b[0;34m:\u001b[0m \u001b[0mTensor\u001b[0m\u001b[0;34m,\u001b[0m \u001b[0mx_j\u001b[0m\u001b[0;34m:\u001b[0m \u001b[0mTensor\u001b[0m\u001b[0;34m)\u001b[0m \u001b[0;34m->\u001b[0m \u001b[0mTensor\u001b[0m\u001b[0;34m:\u001b[0m\u001b[0;34m\u001b[0m\u001b[0;34m\u001b[0m\u001b[0m\n\u001b[0;32m---> 63\u001b[0;31m         \u001b[0;32mreturn\u001b[0m \u001b[0mself\u001b[0m\u001b[0;34m.\u001b[0m\u001b[0mnn\u001b[0m\u001b[0;34m(\u001b[0m\u001b[0mtorch\u001b[0m\u001b[0;34m.\u001b[0m\u001b[0mcat\u001b[0m\u001b[0;34m(\u001b[0m\u001b[0;34m[\u001b[0m\u001b[0mx_i\u001b[0m\u001b[0;34m,\u001b[0m \u001b[0mx_j\u001b[0m \u001b[0;34m-\u001b[0m \u001b[0mx_i\u001b[0m\u001b[0;34m]\u001b[0m\u001b[0;34m,\u001b[0m \u001b[0mdim\u001b[0m\u001b[0;34m=\u001b[0m\u001b[0;34m-\u001b[0m\u001b[0;36m1\u001b[0m\u001b[0;34m)\u001b[0m\u001b[0;34m)\u001b[0m\u001b[0;34m\u001b[0m\u001b[0;34m\u001b[0m\u001b[0m\n\u001b[0m\u001b[1;32m     64\u001b[0m \u001b[0;34m\u001b[0m\u001b[0m\n\u001b[1;32m     65\u001b[0m     \u001b[0;32mdef\u001b[0m \u001b[0m__repr__\u001b[0m\u001b[0;34m(\u001b[0m\u001b[0mself\u001b[0m\u001b[0;34m)\u001b[0m \u001b[0;34m->\u001b[0m \u001b[0mstr\u001b[0m\u001b[0;34m:\u001b[0m\u001b[0;34m\u001b[0m\u001b[0;34m\u001b[0m\u001b[0m\n",
            "\u001b[0;32m/usr/local/lib/python3.10/dist-packages/torch/nn/modules/module.py\u001b[0m in \u001b[0;36m_call_impl\u001b[0;34m(self, *args, **kwargs)\u001b[0m\n\u001b[1;32m   1499\u001b[0m                 \u001b[0;32mor\u001b[0m \u001b[0m_global_backward_pre_hooks\u001b[0m \u001b[0;32mor\u001b[0m \u001b[0m_global_backward_hooks\u001b[0m\u001b[0;34m\u001b[0m\u001b[0;34m\u001b[0m\u001b[0m\n\u001b[1;32m   1500\u001b[0m                 or _global_forward_hooks or _global_forward_pre_hooks):\n\u001b[0;32m-> 1501\u001b[0;31m             \u001b[0;32mreturn\u001b[0m \u001b[0mforward_call\u001b[0m\u001b[0;34m(\u001b[0m\u001b[0;34m*\u001b[0m\u001b[0margs\u001b[0m\u001b[0;34m,\u001b[0m \u001b[0;34m**\u001b[0m\u001b[0mkwargs\u001b[0m\u001b[0;34m)\u001b[0m\u001b[0;34m\u001b[0m\u001b[0;34m\u001b[0m\u001b[0m\n\u001b[0m\u001b[1;32m   1502\u001b[0m         \u001b[0;31m# Do not call functions when jit is used\u001b[0m\u001b[0;34m\u001b[0m\u001b[0;34m\u001b[0m\u001b[0m\n\u001b[1;32m   1503\u001b[0m         \u001b[0mfull_backward_hooks\u001b[0m\u001b[0;34m,\u001b[0m \u001b[0mnon_full_backward_hooks\u001b[0m \u001b[0;34m=\u001b[0m \u001b[0;34m[\u001b[0m\u001b[0;34m]\u001b[0m\u001b[0;34m,\u001b[0m \u001b[0;34m[\u001b[0m\u001b[0;34m]\u001b[0m\u001b[0;34m\u001b[0m\u001b[0;34m\u001b[0m\u001b[0m\n",
            "\u001b[0;32m<ipython-input-11-415c6e050e9f>\u001b[0m in \u001b[0;36mforward\u001b[0;34m(self, x)\u001b[0m\n\u001b[1;32m     21\u001b[0m \u001b[0;34m\u001b[0m\u001b[0m\n\u001b[1;32m     22\u001b[0m     \u001b[0;32mdef\u001b[0m \u001b[0mforward\u001b[0m\u001b[0;34m(\u001b[0m\u001b[0mself\u001b[0m\u001b[0;34m,\u001b[0m \u001b[0mx\u001b[0m\u001b[0;34m)\u001b[0m\u001b[0;34m:\u001b[0m\u001b[0;34m\u001b[0m\u001b[0;34m\u001b[0m\u001b[0m\n\u001b[0;32m---> 23\u001b[0;31m         \u001b[0;32mreturn\u001b[0m \u001b[0mself\u001b[0m\u001b[0;34m.\u001b[0m\u001b[0mmodel\u001b[0m\u001b[0;34m(\u001b[0m\u001b[0mx\u001b[0m\u001b[0;34m)\u001b[0m\u001b[0;34m\u001b[0m\u001b[0;34m\u001b[0m\u001b[0m\n\u001b[0m\u001b[1;32m     24\u001b[0m \u001b[0;34m\u001b[0m\u001b[0m\n\u001b[1;32m     25\u001b[0m     \u001b[0;32mdef\u001b[0m \u001b[0m__repr__\u001b[0m\u001b[0;34m(\u001b[0m\u001b[0mself\u001b[0m\u001b[0;34m)\u001b[0m\u001b[0;34m:\u001b[0m\u001b[0;34m\u001b[0m\u001b[0;34m\u001b[0m\u001b[0m\n",
            "\u001b[0;32m/usr/local/lib/python3.10/dist-packages/torch/nn/modules/module.py\u001b[0m in \u001b[0;36m_call_impl\u001b[0;34m(self, *args, **kwargs)\u001b[0m\n\u001b[1;32m   1499\u001b[0m                 \u001b[0;32mor\u001b[0m \u001b[0m_global_backward_pre_hooks\u001b[0m \u001b[0;32mor\u001b[0m \u001b[0m_global_backward_hooks\u001b[0m\u001b[0;34m\u001b[0m\u001b[0;34m\u001b[0m\u001b[0m\n\u001b[1;32m   1500\u001b[0m                 or _global_forward_hooks or _global_forward_pre_hooks):\n\u001b[0;32m-> 1501\u001b[0;31m             \u001b[0;32mreturn\u001b[0m \u001b[0mforward_call\u001b[0m\u001b[0;34m(\u001b[0m\u001b[0;34m*\u001b[0m\u001b[0margs\u001b[0m\u001b[0;34m,\u001b[0m \u001b[0;34m**\u001b[0m\u001b[0mkwargs\u001b[0m\u001b[0;34m)\u001b[0m\u001b[0;34m\u001b[0m\u001b[0;34m\u001b[0m\u001b[0m\n\u001b[0m\u001b[1;32m   1502\u001b[0m         \u001b[0;31m# Do not call functions when jit is used\u001b[0m\u001b[0;34m\u001b[0m\u001b[0;34m\u001b[0m\u001b[0m\n\u001b[1;32m   1503\u001b[0m         \u001b[0mfull_backward_hooks\u001b[0m\u001b[0;34m,\u001b[0m \u001b[0mnon_full_backward_hooks\u001b[0m \u001b[0;34m=\u001b[0m \u001b[0;34m[\u001b[0m\u001b[0;34m]\u001b[0m\u001b[0;34m,\u001b[0m \u001b[0;34m[\u001b[0m\u001b[0;34m]\u001b[0m\u001b[0;34m\u001b[0m\u001b[0;34m\u001b[0m\u001b[0m\n",
            "\u001b[0;32m/usr/local/lib/python3.10/dist-packages/torch/nn/modules/container.py\u001b[0m in \u001b[0;36mforward\u001b[0;34m(self, input)\u001b[0m\n\u001b[1;32m    215\u001b[0m     \u001b[0;32mdef\u001b[0m \u001b[0mforward\u001b[0m\u001b[0;34m(\u001b[0m\u001b[0mself\u001b[0m\u001b[0;34m,\u001b[0m \u001b[0minput\u001b[0m\u001b[0;34m)\u001b[0m\u001b[0;34m:\u001b[0m\u001b[0;34m\u001b[0m\u001b[0;34m\u001b[0m\u001b[0m\n\u001b[1;32m    216\u001b[0m         \u001b[0;32mfor\u001b[0m \u001b[0mmodule\u001b[0m \u001b[0;32min\u001b[0m \u001b[0mself\u001b[0m\u001b[0;34m:\u001b[0m\u001b[0;34m\u001b[0m\u001b[0;34m\u001b[0m\u001b[0m\n\u001b[0;32m--> 217\u001b[0;31m             \u001b[0minput\u001b[0m \u001b[0;34m=\u001b[0m \u001b[0mmodule\u001b[0m\u001b[0;34m(\u001b[0m\u001b[0minput\u001b[0m\u001b[0;34m)\u001b[0m\u001b[0;34m\u001b[0m\u001b[0;34m\u001b[0m\u001b[0m\n\u001b[0m\u001b[1;32m    218\u001b[0m         \u001b[0;32mreturn\u001b[0m \u001b[0minput\u001b[0m\u001b[0;34m\u001b[0m\u001b[0;34m\u001b[0m\u001b[0m\n\u001b[1;32m    219\u001b[0m \u001b[0;34m\u001b[0m\u001b[0m\n",
            "\u001b[0;32m/usr/local/lib/python3.10/dist-packages/torch/nn/modules/module.py\u001b[0m in \u001b[0;36m_call_impl\u001b[0;34m(self, *args, **kwargs)\u001b[0m\n\u001b[1;32m   1499\u001b[0m                 \u001b[0;32mor\u001b[0m \u001b[0m_global_backward_pre_hooks\u001b[0m \u001b[0;32mor\u001b[0m \u001b[0m_global_backward_hooks\u001b[0m\u001b[0;34m\u001b[0m\u001b[0;34m\u001b[0m\u001b[0m\n\u001b[1;32m   1500\u001b[0m                 or _global_forward_hooks or _global_forward_pre_hooks):\n\u001b[0;32m-> 1501\u001b[0;31m             \u001b[0;32mreturn\u001b[0m \u001b[0mforward_call\u001b[0m\u001b[0;34m(\u001b[0m\u001b[0;34m*\u001b[0m\u001b[0margs\u001b[0m\u001b[0;34m,\u001b[0m \u001b[0;34m**\u001b[0m\u001b[0mkwargs\u001b[0m\u001b[0;34m)\u001b[0m\u001b[0;34m\u001b[0m\u001b[0;34m\u001b[0m\u001b[0m\n\u001b[0m\u001b[1;32m   1502\u001b[0m         \u001b[0;31m# Do not call functions when jit is used\u001b[0m\u001b[0;34m\u001b[0m\u001b[0;34m\u001b[0m\u001b[0m\n\u001b[1;32m   1503\u001b[0m         \u001b[0mfull_backward_hooks\u001b[0m\u001b[0;34m,\u001b[0m \u001b[0mnon_full_backward_hooks\u001b[0m \u001b[0;34m=\u001b[0m \u001b[0;34m[\u001b[0m\u001b[0;34m]\u001b[0m\u001b[0;34m,\u001b[0m \u001b[0;34m[\u001b[0m\u001b[0;34m]\u001b[0m\u001b[0;34m\u001b[0m\u001b[0;34m\u001b[0m\u001b[0m\n",
            "\u001b[0;32m/usr/local/lib/python3.10/dist-packages/torch/nn/modules/linear.py\u001b[0m in \u001b[0;36mforward\u001b[0;34m(self, input)\u001b[0m\n\u001b[1;32m    112\u001b[0m \u001b[0;34m\u001b[0m\u001b[0m\n\u001b[1;32m    113\u001b[0m     \u001b[0;32mdef\u001b[0m \u001b[0mforward\u001b[0m\u001b[0;34m(\u001b[0m\u001b[0mself\u001b[0m\u001b[0;34m,\u001b[0m \u001b[0minput\u001b[0m\u001b[0;34m:\u001b[0m \u001b[0mTensor\u001b[0m\u001b[0;34m)\u001b[0m \u001b[0;34m->\u001b[0m \u001b[0mTensor\u001b[0m\u001b[0;34m:\u001b[0m\u001b[0;34m\u001b[0m\u001b[0;34m\u001b[0m\u001b[0m\n\u001b[0;32m--> 114\u001b[0;31m         \u001b[0;32mreturn\u001b[0m \u001b[0mF\u001b[0m\u001b[0;34m.\u001b[0m\u001b[0mlinear\u001b[0m\u001b[0;34m(\u001b[0m\u001b[0minput\u001b[0m\u001b[0;34m,\u001b[0m \u001b[0mself\u001b[0m\u001b[0;34m.\u001b[0m\u001b[0mweight\u001b[0m\u001b[0;34m,\u001b[0m \u001b[0mself\u001b[0m\u001b[0;34m.\u001b[0m\u001b[0mbias\u001b[0m\u001b[0;34m)\u001b[0m\u001b[0;34m\u001b[0m\u001b[0;34m\u001b[0m\u001b[0m\n\u001b[0m\u001b[1;32m    115\u001b[0m \u001b[0;34m\u001b[0m\u001b[0m\n\u001b[1;32m    116\u001b[0m     \u001b[0;32mdef\u001b[0m \u001b[0mextra_repr\u001b[0m\u001b[0;34m(\u001b[0m\u001b[0mself\u001b[0m\u001b[0;34m)\u001b[0m \u001b[0;34m->\u001b[0m \u001b[0mstr\u001b[0m\u001b[0;34m:\u001b[0m\u001b[0;34m\u001b[0m\u001b[0;34m\u001b[0m\u001b[0m\n",
            "\u001b[0;31mKeyboardInterrupt\u001b[0m: "
          ]
        }
      ],
      "source": [
        "import torch.optim as optim\n",
        "import tqdm\n",
        "\n",
        "\n",
        "gnn = ParticleNet(node_feat_size=len(features_to_consider), num_classes=1)\n",
        "gnn.to(device)\n",
        "#loss_fn = torch.nn.MSELoss()                            # Using Mean Squared Error as loss function for regression\n",
        "loss_fn = torch.nn.HuberLoss()                            # Using Mean Squared Error as loss function for regression\n",
        "\n",
        "optimizer = optim.Adam(gnn.parameters(), lr = 0.00075)\n",
        "EPOCHS = 20\n",
        "loss_train, loss_val = [],[]\n",
        "acc_train, acc_val = [],[]\n",
        "gnn_model_summary(gnn)\n",
        "print(hit_dataset_val[:10])\n",
        "\n",
        "history_train = []\n",
        "history_val = []\n",
        "for epoch in range(EPOCHS):\n",
        "    print('EPOCH {}:'.format(epoch + 1))\n",
        "\n",
        "    loss_train_epoch,  y_pred_train = train_test_one_epoch(gnn, hit_loader_train, device, optimizer, loss_fn, batch_size, history_train, mode = 'train')\n",
        "    loss_val_epoch, y_pred_val = train_test_one_epoch(gnn, hit_loader_val, device, optimizer, loss_fn, batch_size, history_val, mode = 'test')\n",
        "    print('LOSS train {:.3f}, valid {:.3f}'.format(loss_train_epoch, loss_val_epoch))\n",
        "    loss_train.append(loss_train_epoch)\n",
        "    loss_val.append(loss_val_epoch)\n",
        "    #save model state with best parameters\n",
        "    torch.save(gnn.state_dict(), 'best-model-parameters.pt')\n"
      ]
    },
    {
      "cell_type": "code",
      "execution_count": null,
      "metadata": {
        "id": "C4qjg3lpf5N3"
      },
      "outputs": [],
      "source": [
        "best_model_param = torch.load('best-model-parameters.pt')\n",
        "gnn.load_state_dict(best_model_param)"
      ]
    },
    {
      "cell_type": "code",
      "execution_count": null,
      "metadata": {
        "id": "eKl6k8WUgGzd"
      },
      "outputs": [],
      "source": [
        "pred_energy = []\n",
        "truth_energy = []\n",
        "pred_label = []\n",
        "true_label = []\n",
        "for i, data in enumerate(hit_loader_val):\n",
        "    inputs, truth = data, data.y\n",
        "    outData = data.x.cpu().detach().numpy()\n",
        "    y_true = data.y.cpu().detach().numpy()\n",
        "\n",
        "    inputs = inputs.to(device)\n",
        "    y_pred = gnn(inputs.to(device)).cpu().detach().numpy().squeeze(1)\n",
        "    truth_energy.append(y_true)\n",
        "    pred_energy.append(y_pred)\n"
      ]
    },
    {
      "cell_type": "code",
      "execution_count": null,
      "metadata": {
        "id": "EZ9TznCTgask"
      },
      "outputs": [],
      "source": [
        "def split_iterate(df, colname):\n",
        "    return [x for __, x in df.groupby(colname)]\n",
        "\n",
        "\n",
        "truth_energy = np.concatenate(truth_energy).ravel()\n",
        "pred_energy = np.concatenate(pred_energy).ravel()\n",
        "gnnRecoDF = pd.DataFrame({'TruthEnergy' : truth_energy, 'GNNenergy' : pred_energy})\n",
        "print(gnnRecoDF)\n",
        "results_array = split_iterate(gnnRecoDF, 'TruthEnergy')\n",
        "\n",
        "\n"
      ]
    },
    {
      "cell_type": "code",
      "execution_count": null,
      "metadata": {
        "id": "sateY9P_g7d8"
      },
      "outputs": [],
      "source": [
        "import scipy\n",
        "\n",
        "\n",
        "\n",
        "print(results_array[0])\n",
        "print(results_array[1])\n",
        "resolution = []\n",
        "fit_resolution = []\n",
        "fit_Epeak = []\n",
        "energies = []\n",
        "#energies = [e.TruthEnergy for e in results_array]\n",
        "for i in range(len(results_array)):\n",
        "    trueE = int(results_array[i].TruthEnergy.mean())\n",
        "    recoE = results_array[i].GNNenergy.mean()\n",
        "    recoE_std = results_array[i].GNNenergy.std()\n",
        "    resolution.append(recoE_std/trueE)\n",
        "    energies.append(trueE)\n",
        "    print(\"sigma/E: \", recoE_std/trueE)\n",
        "\n",
        "    bmin = trueE - 4*np.sqrt(trueE)\n",
        "    bmax = trueE + 4*np.sqrt(trueE)\n",
        "    myBins = np.linspace(bmin, bmax, 100)\n",
        "    #_, bins = plt.hist(myBins, bins=100, range=(bmin, bmax))\n",
        "    counts, bins = np.histogram(results_array[i].GNNenergy, bins=100, range=(bmin, bmax))\n",
        "    plt.hist(results_array[i].GNNenergy, bins=10, range=(bmin, bmax), density=1)\n",
        "\n",
        "    mu, sigma = scipy.stats.norm.fit(results_array[i].GNNenergy)\n",
        "    best_fit_line = scipy.stats.norm.pdf(bins, mu, sigma)\n",
        "    fit_resolution.append(sigma)\n",
        "    fit_Epeak.append(mu)\n",
        "\n",
        "    plt.plot(bins, best_fit_line)\n",
        "\n",
        "    #counts, bins = np.histogram(results_array[i].GNNenergy)\n",
        "    #plt.hist(bins[:-1], bins, weights=counts)\n",
        "    #plt.savefig('RecoE%d.png' %trueE)\n",
        "    plt.show()\n",
        "    plt.clf()\n",
        "\n",
        "\n",
        "plt.plot(energies, resolution)\n",
        "plt.xlabel('Energy [GeV]')\n",
        "plt.ylabel('sigma/E')\n",
        "plt.savefig('test.png')\n",
        "plt.clf()\n",
        "\n",
        "print(energies)\n",
        "energies = np.array(energies)\n",
        "x = 1/np.sqrt(energies)\n",
        "print(x)\n",
        "y = np.array(fit_resolution)/np.array(fit_Epeak)\n",
        "print(y)\n",
        "#plt.errorbar(x, y, yerr=np.sqrt(np.array(fit_resolution)/1000))\n",
        "coef = np.polyfit(x, y, 1)\n",
        "polyf = np.poly1d(coef)\n",
        "plt.plot(x, y, 'yo', x, polyf(x))\n",
        "print(\"Par0: \", coef[0], \"Par1: \", coef[1])\n",
        "print(\"Risoluzione: \", coef[0]*100, \"/sqrt(E) + \", coef[1]*100)\n",
        "\n",
        "plt.show()\n"
      ]
    },
    {
      "cell_type": "code",
      "execution_count": null,
      "metadata": {
        "id": "xct6SSQ8leO7"
      },
      "outputs": [],
      "source": [
        "import sys\n",
        "sys.path.append(\"/content/root/lib\")\n",
        "\n",
        "!wget https://root.cern/download/root_v6.28.02.Linux-ubuntu20-x86_64-gcc9.4.tar.gz\n",
        "!tar -xzvf /content/root_v6.28.02.Linux-ubuntu20-x86_64-gcc9.4.tar.gz\n",
        "!source /content/root/bin/thisroot.sh\n",
        "\n",
        "import ROOT\n",
        "\n"
      ]
    },
    {
      "cell_type": "code",
      "execution_count": null,
      "metadata": {
        "id": "ms2-rU_lmGU0"
      },
      "outputs": [],
      "source": []
    }
  ],
  "metadata": {
    "accelerator": "GPU",
    "colab": {
      "provenance": [],
      "authorship_tag": "ABX9TyP/x8hg7qyINsjJb7WAtMoS",
      "include_colab_link": true
    },
    "kernelspec": {
      "display_name": "Python 3",
      "name": "python3"
    },
    "language_info": {
      "name": "python"
    }
  },
  "nbformat": 4,
  "nbformat_minor": 0
}